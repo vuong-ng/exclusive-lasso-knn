{
 "cells": [
  {
   "cell_type": "code",
   "execution_count": 1,
   "metadata": {},
   "outputs": [],
   "source": [
    "import numpy as np\n",
    "import matplotlib.pyplot as plt\n",
    "import os\n",
    "import pandas as pd\n",
    "import scipy.io\n",
    "from sklearn import linear_model\n",
    "from sklearn import model_selection\n",
    "import eknn \n",
    "from eknn import exclusive_lasso, EkNN_C,EkNN_R\n",
    "import poly_eknn_modified\n",
    "from poly_eknn_modified import poly_regression, single_polynomial_EkNN_R, polynomial_EkNN_R_classifier\n",
    "from sklearn.metrics import accuracy_score\n",
    "from sklearn.model_selection import train_test_split"
   ]
  },
  {
   "cell_type": "code",
   "execution_count": 2,
   "metadata": {},
   "outputs": [
    {
     "data": {
      "text/plain": [
       "(100, 10)"
      ]
     },
     "execution_count": 2,
     "metadata": {},
     "output_type": "execute_result"
    }
   ],
   "source": [
    "X = np.random.randn(100,10) # Matrix of possible predictors\n",
    "alphas = np.array([0, 0, 0, 1, 0, 0, 0, -1, 0, 0]) #Two nonzero predictors\n",
    "y = X @ alphas + 2*np.random.randn(100) # simulated observations y\n",
    "N_groups = 3\n",
    "groups = np.random.rand(10,3)\n",
    "n = X.shape[1]\n",
    "\n",
    "xL2 = np.linalg.pinv(X) @ y # inital value for alphas / re-visit how the value is initiated\n",
    "(X @ alphas).shape, y.shape\n",
    "X.shape"
   ]
  },
  {
   "cell_type": "code",
   "execution_count": 3,
   "metadata": {},
   "outputs": [
    {
     "data": {
      "text/plain": [
       "(array([-0.09340623,  0.06515274,  0.05534093,  1.167718  ,  0.29380863,\n",
       "        -0.23674422,  0.06459577, -0.84877737,  0.00692189,  0.07382089]),\n",
       " array([ 0.00115334,  0.00216088,  0.00094117,  0.00106819,  0.00119795,\n",
       "        -0.00045515, -0.00277232,  0.00048457,  0.00102785,  0.00461446]),\n",
       " array([-9.34062337e-02,  6.51527442e-02,  5.53409297e-02,  1.16771800e+00,\n",
       "         2.93808631e-01, -2.36744221e-01,  6.45957711e-02, -8.48777369e-01,\n",
       "         6.92188747e-03,  7.38208916e-02,  1.15333974e-03,  2.16087969e-03,\n",
       "         9.41174952e-04,  1.06819074e-03,  1.19795349e-03, -4.55154490e-04,\n",
       "        -2.77231580e-03,  4.84572160e-04,  1.02784508e-03,  4.61446446e-03]))"
      ]
     },
     "execution_count": 3,
     "metadata": {},
     "output_type": "execute_result"
    }
   ],
   "source": [
    "alphas_0 = np.linalg.pinv(X) @ y\n",
    "betas_0 = (np.linalg.pinv(X) ** 2) @ y\n",
    "x0 = np.concatenate((alphas_0, betas_0))\n",
    "alphas_0, betas_0, x0\n"
   ]
  },
  {
   "cell_type": "code",
   "execution_count": 4,
   "metadata": {},
   "outputs": [
    {
     "data": {
      "text/plain": [
       "array([[1., 0., 0., 1., 0., 1., 1., 0., 0., 0.],\n",
       "       [0., 0., 1., 0., 0., 0., 0., 0., 0., 0.],\n",
       "       [0., 1., 0., 0., 1., 0., 0., 1., 1., 1.]])"
      ]
     },
     "execution_count": 4,
     "metadata": {},
     "output_type": "execute_result"
    }
   ],
   "source": [
    "N_groups = 3\n",
    "groups = np.random.rand( N_groups,10)\n",
    "\n",
    "# simulate groups vectors\n",
    "for i in range(len(groups)): # number of groups = number of rows\n",
    "    # print(len(groups[i,:]))\n",
    "    for j in range(len(groups[i,:])): # number of obs = number columns\n",
    "        # print(groups[i,j])\n",
    "        if groups[i,j] == max(groups[:,j]):\n",
    "            groups[i,j] = 1\n",
    "        else:\n",
    "            groups[i,j]= 0\n",
    "groups"
   ]
  },
  {
   "cell_type": "code",
   "execution_count": 5,
   "metadata": {},
   "outputs": [],
   "source": [
    "reg = poly_eknn_modified.poly_regression(X, y,groups, 0.1)"
   ]
  },
  {
   "cell_type": "code",
   "execution_count": 6,
   "metadata": {},
   "outputs": [],
   "source": [
    "coefs = reg.lasso_optimize(x0)\n",
    "coefficients = coefs.x"
   ]
  },
  {
   "cell_type": "code",
   "execution_count": 7,
   "metadata": {},
   "outputs": [
    {
     "data": {
      "text/plain": [
       "array([[0., 0., 0., 0., 0., 1., 1., 1., 0., 0.],\n",
       "       [1., 1., 0., 1., 0., 0., 0., 0., 0., 0.],\n",
       "       [0., 0., 1., 0., 0., 0., 0., 0., 1., 0.],\n",
       "       [0., 0., 0., 0., 1., 0., 0., 0., 0., 1.]])"
      ]
     },
     "execution_count": 7,
     "metadata": {},
     "output_type": "execute_result"
    }
   ],
   "source": [
    "# simualate class labels \n",
    "N_classes = 4\n",
    "labels = np.random.rand(N_classes,10)\n",
    "x_labels = np.zeros(10)\n",
    "\n",
    "# simulate groups vector\n",
    "for i in range(len(labels)): # number of groups = number of rows\n",
    "    for j in range(len(labels[i,:])): # number of obs = number columns\n",
    "        if labels[i,j] == max(labels[:,j]):\n",
    "            labels[i,j] = 1\n",
    "            x_labels[j] = i\n",
    "        else:\n",
    "            labels[i,j]= 0\n",
    "            # x_labels[j] = i\n",
    "labels"
   ]
  },
  {
   "cell_type": "code",
   "execution_count": 8,
   "metadata": {},
   "outputs": [
    {
     "data": {
      "text/plain": [
       "array([2.07606862, 0.        , 0.        , 0.        , 0.        ,\n",
       "       0.        , 2.72180739, 0.        , 0.        , 2.75971116])"
      ]
     },
     "execution_count": 8,
     "metadata": {},
     "output_type": "execute_result"
    }
   ],
   "source": [
    "clf = poly_eknn_modified.single_polynomial_EkNN_R(X,y, coefficients[:n], coefficients[n:], labels, 3)\n",
    "clf.k_largest_sum_vect"
   ]
  },
  {
   "cell_type": "code",
   "execution_count": 9,
   "metadata": {},
   "outputs": [
    {
     "data": {
      "text/plain": [
       "(array([[ 0.58517599,  0.        ,  0.        ,  0.        ,  0.        ,\n",
       "          0.        ,  0.        ,  0.        ,  0.        ,  0.        ],\n",
       "        [ 0.        ,  0.87643053,  0.        ,  0.        ,  0.        ,\n",
       "          0.        ,  0.        ,  0.        ,  0.        ,  0.        ],\n",
       "        [ 0.        ,  0.        , -1.50469204,  0.        ,  0.        ,\n",
       "          0.        ,  0.        ,  0.        ,  0.        ,  0.        ],\n",
       "        [ 0.        ,  0.        ,  0.        ,  0.97526495,  0.        ,\n",
       "          0.        ,  0.        ,  0.        ,  0.        ,  0.        ],\n",
       "        [ 0.        ,  0.        ,  0.        ,  0.        ,  0.42256522,\n",
       "          0.        ,  0.        ,  0.        ,  0.        ,  0.        ],\n",
       "        [ 0.        ,  0.        ,  0.        ,  0.        ,  0.        ,\n",
       "         -0.93042258,  0.        ,  0.        ,  0.        ,  0.        ],\n",
       "        [ 0.        ,  0.        ,  0.        ,  0.        ,  0.        ,\n",
       "          0.        ,  1.69243186,  0.        ,  0.        ,  0.        ],\n",
       "        [ 0.        ,  0.        ,  0.        ,  0.        ,  0.        ,\n",
       "          0.        ,  0.        , -1.62840581,  0.        ,  0.        ],\n",
       "        [ 0.        ,  0.        ,  0.        ,  0.        ,  0.        ,\n",
       "          0.        ,  0.        ,  0.        , -0.033792  ,  0.        ],\n",
       "        [ 0.        ,  0.        ,  0.        ,  0.        ,  0.        ,\n",
       "          0.        ,  0.        ,  0.        ,  0.        ,  1.15095121]]),\n",
       " array([[ 1.49089263,  0.        ,  0.        ,  0.        ,  0.        ,\n",
       "          0.        ,  0.        ,  0.        ,  0.        ,  0.        ],\n",
       "        [ 0.        , -0.14734923,  0.        ,  0.        ,  0.        ,\n",
       "          0.        ,  0.        ,  0.        ,  0.        ,  0.        ],\n",
       "        [ 0.        ,  0.        ,  0.29099826,  0.        ,  0.        ,\n",
       "          0.        ,  0.        ,  0.        ,  0.        ,  0.        ],\n",
       "        [ 0.        ,  0.        ,  0.        ,  0.46901973,  0.        ,\n",
       "          0.        ,  0.        ,  0.        ,  0.        ,  0.        ],\n",
       "        [ 0.        ,  0.        ,  0.        ,  0.        , -0.00990931,\n",
       "          0.        ,  0.        ,  0.        ,  0.        ,  0.        ],\n",
       "        [ 0.        ,  0.        ,  0.        ,  0.        ,  0.        ,\n",
       "          0.03492397,  0.        ,  0.        ,  0.        ,  0.        ],\n",
       "        [ 0.        ,  0.        ,  0.        ,  0.        ,  0.        ,\n",
       "          0.        ,  1.02937553,  0.        ,  0.        ,  0.        ],\n",
       "        [ 0.        ,  0.        ,  0.        ,  0.        ,  0.        ,\n",
       "          0.        ,  0.        ,  0.06724103,  0.        ,  0.        ],\n",
       "        [ 0.        ,  0.        ,  0.        ,  0.        ,  0.        ,\n",
       "          0.        ,  0.        ,  0.        ,  0.4085418 ,  0.        ],\n",
       "        [ 0.        ,  0.        ,  0.        ,  0.        ,  0.        ,\n",
       "          0.        ,  0.        ,  0.        ,  0.        ,  1.60875995]]))"
      ]
     },
     "execution_count": 9,
     "metadata": {},
     "output_type": "execute_result"
    }
   ],
   "source": [
    "clf.alphas_diag_matrix, clf.betas_diag_matrix"
   ]
  },
  {
   "cell_type": "code",
   "execution_count": 10,
   "metadata": {},
   "outputs": [
    {
     "data": {
      "text/plain": [
       "array([[0.        , 0.        , 0.        , 0.        , 0.        ,\n",
       "        0.        , 2.72180739, 0.        , 0.        , 0.        ],\n",
       "       [2.07606862, 0.        , 0.        , 0.        , 0.        ,\n",
       "        0.        , 0.        , 0.        , 0.        , 0.        ],\n",
       "       [0.        , 0.        , 0.        , 0.        , 0.        ,\n",
       "        0.        , 0.        , 0.        , 0.        , 0.        ],\n",
       "       [0.        , 0.        , 0.        , 0.        , 0.        ,\n",
       "        0.        , 0.        , 0.        , 0.        , 2.75971116]])"
      ]
     },
     "execution_count": 10,
     "metadata": {},
     "output_type": "execute_result"
    }
   ],
   "source": [
    "clf.class_coefs_matrix()"
   ]
  },
  {
   "cell_type": "code",
   "execution_count": 11,
   "metadata": {},
   "outputs": [
    {
     "data": {
      "text/plain": [
       "102.4823888366796"
      ]
     },
     "execution_count": 11,
     "metadata": {},
     "output_type": "execute_result"
    }
   ],
   "source": [
    "(np.sum((y+y**2)**2))**(1/2)"
   ]
  },
  {
   "cell_type": "code",
   "execution_count": 12,
   "metadata": {},
   "outputs": [
    {
     "data": {
      "text/plain": [
       "array([ 93.94172818, 102.97580156, 101.33903148,  98.96011465,\n",
       "       102.23056377, 102.09711763,  99.02797102, 100.28362541,\n",
       "       100.3269401 ,  93.20271615])"
      ]
     },
     "execution_count": 12,
     "metadata": {},
     "output_type": "execute_result"
    }
   ],
   "source": [
    "clf.distance()"
   ]
  },
  {
   "cell_type": "code",
   "execution_count": 13,
   "metadata": {},
   "outputs": [
    {
     "data": {
      "text/plain": [
       "array([0.92438293, 0.        , 0.16747731, 0.41089244, 0.0762541 ,\n",
       "       0.08990855, 0.40394925, 0.2754684 , 0.27103636, 1.        ])"
      ]
     },
     "execution_count": 13,
     "metadata": {},
     "output_type": "execute_result"
    }
   ],
   "source": [
    "clf.weight()"
   ]
  },
  {
   "cell_type": "code",
   "execution_count": 14,
   "metadata": {},
   "outputs": [
    {
     "data": {
      "text/plain": [
       "([0, 6, 9],\n",
       " array([2.07606862, 0.        , 0.        , 0.        , 0.        ,\n",
       "        0.        , 2.72180739, 0.        , 0.        , 2.75971116]))"
      ]
     },
     "execution_count": 14,
     "metadata": {},
     "output_type": "execute_result"
    }
   ],
   "source": [
    "clf.k_indices, clf.k_largest_sum_vect"
   ]
  },
  {
   "cell_type": "code",
   "execution_count": 15,
   "metadata": {},
   "outputs": [
    {
     "data": {
      "text/plain": [
       "3"
      ]
     },
     "execution_count": 15,
     "metadata": {},
     "output_type": "execute_result"
    }
   ],
   "source": [
    "clf.classify()"
   ]
  },
  {
   "cell_type": "code",
   "execution_count": 16,
   "metadata": {},
   "outputs": [],
   "source": [
    "# generate more test samples\n",
    "Y_t = np.zeros((10, y.shape[0]))\n",
    "for i in range(10):\n",
    "    Y_t[i,:] = X @ alphas + 2*np.random.randn(100) \n",
    "Y = np.transpose(Y_t)"
   ]
  },
  {
   "cell_type": "code",
   "execution_count": 17,
   "metadata": {},
   "outputs": [],
   "source": [
    "clf = poly_eknn_modified.polynomial_EkNN_R_classifier(0.1, N_groups, k=3)"
   ]
  },
  {
   "cell_type": "code",
   "execution_count": 18,
   "metadata": {},
   "outputs": [],
   "source": [
    "X_transposed = np.transpose(X)"
   ]
  },
  {
   "cell_type": "code",
   "execution_count": 19,
   "metadata": {},
   "outputs": [
    {
     "data": {
      "text/plain": [
       "<poly_eknn_modified.polynomial_EkNN_R_classifier at 0x104f87130>"
      ]
     },
     "execution_count": 19,
     "metadata": {},
     "output_type": "execute_result"
    }
   ],
   "source": [
    "clf.fit(X_transposed, x_labels)"
   ]
  },
  {
   "cell_type": "code",
   "execution_count": 20,
   "metadata": {},
   "outputs": [
    {
     "name": "stdout",
     "output_type": "stream",
     "text": [
      "10 <class 'int'>\n"
     ]
    }
   ],
   "source": [
    "preds = clf.predict(Y)"
   ]
  },
  {
   "cell_type": "code",
   "execution_count": 21,
   "metadata": {},
   "outputs": [
    {
     "data": {
      "text/plain": [
       "array([1., 1., 1., 3., 0., 0., 0., 3., 1., 0.])"
      ]
     },
     "execution_count": 21,
     "metadata": {},
     "output_type": "execute_result"
    }
   ],
   "source": [
    "preds"
   ]
  },
  {
   "cell_type": "markdown",
   "metadata": {},
   "source": [
    "#### LSVT test set"
   ]
  },
  {
   "cell_type": "code",
   "execution_count": 2,
   "metadata": {},
   "outputs": [],
   "source": [
    "lsvt_predictors = pd.read_excel('lsvt/LSVT_voice_rehabilitation.xlsx')\n",
    "lsvt_response = pd.read_excel('lsvt/LSVT_voice_rehabilitation.xlsx',sheet_name=1)\n",
    "train, test, train_labels, test_labels = train_test_split(lsvt_predictors, lsvt_response, test_size=0.33, random_state=42)"
   ]
  },
  {
   "cell_type": "code",
   "execution_count": 3,
   "metadata": {},
   "outputs": [],
   "source": [
    "train.reset_index(drop=True, inplace=True)\n",
    "test.reset_index(drop=True, inplace=True)\n",
    "train_labels.reset_index(drop=True, inplace=True)\n",
    "test_labels.reset_index(drop=True, inplace=True)"
   ]
  },
  {
   "cell_type": "code",
   "execution_count": 4,
   "metadata": {},
   "outputs": [],
   "source": [
    "predictors_lsvt = train.columns\n",
    "# generate predictor matrix X\n",
    "# matrix rows = col number\n",
    "# matrix column = row number \n",
    "train_cols, train_rows = train.shape[1], train.shape[0]\n",
    "X_train = np.zeros((train_cols, train_rows))\n",
    "for i,col in enumerate(predictors_lsvt):\n",
    "    for j in range(train_rows):\n",
    "        X_train[i,j] = train[col][j]"
   ]
  },
  {
   "cell_type": "code",
   "execution_count": 5,
   "metadata": {},
   "outputs": [],
   "source": [
    "test_cols, test_rows = test.shape[1], test.shape[0]\n",
    "X_test = np.zeros((test_cols, test_rows))\n",
    "for i,col in enumerate(predictors_lsvt):\n",
    "    for j in range(test_rows):\n",
    "        X_test[i,j] = test[col][j]"
   ]
  },
  {
   "cell_type": "code",
   "execution_count": 6,
   "metadata": {},
   "outputs": [],
   "source": [
    "# try to generate a more generic way to generate the label matrix\n",
    "y_train = np.zeros(train.shape[0])\n",
    "for i in range(len(train_labels[\"Binary class 1=acceptable, 2=unacceptable\"])):\n",
    "    if train_labels[\"Binary class 1=acceptable, 2=unacceptable\"][i] == 1:\n",
    "        y_train[i] = 0\n",
    "    else:\n",
    "        y_train[i] = 1"
   ]
  },
  {
   "cell_type": "code",
   "execution_count": 7,
   "metadata": {},
   "outputs": [],
   "source": [
    "X_train_transposed = np.transpose(X_train)"
   ]
  },
  {
   "cell_type": "code",
   "execution_count": 9,
   "metadata": {},
   "outputs": [
    {
     "name": "stdout",
     "output_type": "stream",
     "text": [
      "84 <class 'int'>\n",
      "[3.84236000e+66 1.06539167e+67] (2,)\n"
     ]
    },
    {
     "name": "stderr",
     "output_type": "stream",
     "text": [
      "/Users/vuongnguyen/Documents/GitHub/summer_24/exclusive_lasso_knn/poly_eknn_modified.py:33: RuntimeWarning: overflow encountered in square\n",
      "  return (np.sum(residual**2) + self.lambda_ * (np.sum(grouped_alphas ** 2)) + self.lambda_ * (np.sum(grouped_betas ** 2)) )\n",
      "/Users/vuongnguyen/anaconda3/envs/anaconda_env/lib/python3.8/site-packages/numpy/core/fromnumeric.py:86: RuntimeWarning: overflow encountered in reduce\n",
      "  return ufunc.reduce(obj, axis, dtype, out, **passkwargs)\n",
      "/Users/vuongnguyen/anaconda3/envs/anaconda_env/lib/python3.8/site-packages/scipy/optimize/_numdiff.py:576: RuntimeWarning: invalid value encountered in subtract\n",
      "  df = fun(x) - f0\n"
     ]
    },
    {
     "name": "stdout",
     "output_type": "stream",
     "text": [
      "[nan nan] (2,)\n"
     ]
    },
    {
     "ename": "IndexError",
     "evalue": "index 0 is out of bounds for axis 0 with size 0",
     "output_type": "error",
     "traceback": [
      "\u001b[0;31m---------------------------------------------------------------------------\u001b[0m",
      "\u001b[0;31mIndexError\u001b[0m                                Traceback (most recent call last)",
      "Cell \u001b[0;32mIn[9], line 4\u001b[0m\n\u001b[1;32m      1\u001b[0m clf \u001b[38;5;241m=\u001b[39m poly_eknn_modified\u001b[38;5;241m.\u001b[39mpolynomial_EkNN_R_classifier(\u001b[38;5;241m0.0001\u001b[39m, \u001b[38;5;241m2\u001b[39m, \u001b[38;5;241m3\u001b[39m)\n\u001b[1;32m      2\u001b[0m clf\u001b[38;5;241m.\u001b[39mfit(X_train_transposed, y_train)\n\u001b[0;32m----> 4\u001b[0m preds \u001b[38;5;241m=\u001b[39m \u001b[43mclf\u001b[49m\u001b[38;5;241;43m.\u001b[39;49m\u001b[43mpredict\u001b[49m\u001b[43m(\u001b[49m\u001b[43mX_test\u001b[49m\u001b[43m)\u001b[49m\n",
      "File \u001b[0;32m~/Documents/GitHub/summer_24/exclusive_lasso_knn/poly_eknn_modified.py:198\u001b[0m, in \u001b[0;36mpolynomial_EkNN_R_classifier.predict\u001b[0;34m(self, X_test)\u001b[0m\n\u001b[1;32m    195\u001b[0m     \u001b[38;5;66;03m# print(reg.lasso_optimize(xL2).message)\u001b[39;00m\n\u001b[1;32m    196\u001b[0m     \u001b[38;5;66;03m# print(coefs)\u001b[39;00m\n\u001b[1;32m    197\u001b[0m     poly_EkNN_R \u001b[38;5;241m=\u001b[39m single_polynomial_EkNN_R(\u001b[38;5;28mself\u001b[39m\u001b[38;5;241m.\u001b[39mX_train, y_s[i], coefs[\u001b[38;5;241m0\u001b[39m:\u001b[38;5;28mself\u001b[39m\u001b[38;5;241m.\u001b[39mX_train\u001b[38;5;241m.\u001b[39mshape[\u001b[38;5;241m1\u001b[39m]], coefs[\u001b[38;5;28mself\u001b[39m\u001b[38;5;241m.\u001b[39mX_train\u001b[38;5;241m.\u001b[39mshape[\u001b[38;5;241m1\u001b[39m]:], \u001b[38;5;28mself\u001b[39m\u001b[38;5;241m.\u001b[39my_train, \u001b[38;5;28mself\u001b[39m\u001b[38;5;241m.\u001b[39mk)\n\u001b[0;32m--> 198\u001b[0m     preds[i] \u001b[38;5;241m=\u001b[39m \u001b[43mpoly_EkNN_R\u001b[49m\u001b[38;5;241;43m.\u001b[39;49m\u001b[43mclassify\u001b[49m\u001b[43m(\u001b[49m\u001b[43m)\u001b[49m\n\u001b[1;32m    200\u001b[0m \u001b[38;5;28;01mreturn\u001b[39;00m preds\n",
      "File \u001b[0;32m~/Documents/GitHub/summer_24/exclusive_lasso_knn/poly_eknn_modified.py:115\u001b[0m, in \u001b[0;36msingle_polynomial_EkNN_R.classify\u001b[0;34m(self)\u001b[0m\n\u001b[1;32m    112\u001b[0m weights_coefs_product \u001b[38;5;241m=\u001b[39m class_coefs_matrix \u001b[38;5;241m@\u001b[39m w\n\u001b[1;32m    113\u001b[0m \u001b[38;5;28mprint\u001b[39m(weights_coefs_product, weights_coefs_product\u001b[38;5;241m.\u001b[39mshape)\n\u001b[0;32m--> 115\u001b[0m \u001b[38;5;28;01mreturn\u001b[39;00m \u001b[43mnp\u001b[49m\u001b[38;5;241;43m.\u001b[39;49m\u001b[43mwhere\u001b[49m\u001b[43m(\u001b[49m\u001b[43mweights_coefs_product\u001b[49m\u001b[43m \u001b[49m\u001b[38;5;241;43m==\u001b[39;49m\u001b[43m \u001b[49m\u001b[38;5;28;43mmax\u001b[39;49m\u001b[43m(\u001b[49m\u001b[43mweights_coefs_product\u001b[49m\u001b[43m)\u001b[49m\u001b[43m)\u001b[49m\u001b[43m[\u001b[49m\u001b[38;5;241;43m0\u001b[39;49m\u001b[43m]\u001b[49m\u001b[43m[\u001b[49m\u001b[38;5;241;43m0\u001b[39;49m\u001b[43m]\u001b[49m\n",
      "\u001b[0;31mIndexError\u001b[0m: index 0 is out of bounds for axis 0 with size 0"
     ]
    }
   ],
   "source": [
    "clf = poly_eknn_modified.polynomial_EkNN_R_classifier(0.0001, 2, 3)\n",
    "clf.fit(X_train_transposed, y_train)\n",
    "\n",
    "preds = clf.predict(X_test)"
   ]
  },
  {
   "cell_type": "code",
   "execution_count": null,
   "metadata": {},
   "outputs": [],
   "source": []
  }
 ],
 "metadata": {
  "kernelspec": {
   "display_name": "anaconda_env",
   "language": "python",
   "name": "python3"
  },
  "language_info": {
   "codemirror_mode": {
    "name": "ipython",
    "version": 3
   },
   "file_extension": ".py",
   "mimetype": "text/x-python",
   "name": "python",
   "nbconvert_exporter": "python",
   "pygments_lexer": "ipython3",
   "version": "3.8.18"
  }
 },
 "nbformat": 4,
 "nbformat_minor": 2
}
