{
 "cells": [
  {
   "cell_type": "code",
   "execution_count": null,
   "metadata": {},
   "outputs": [],
   "source": [
    "import numpy as np\n",
    "import matplotlib.pyplot as plt\n",
    "import os\n",
    "import pandas as pd\n",
    "import scipy.io\n",
    "from sklearn import linear_model\n",
    "from sklearn import model_selection\n",
    "import eknn \n",
    "from eknn import exclusive_lasso, EkNN_C,EkNN_R\n",
    "from sklearn.metrics import accuracy_score\n",
    "import numpy as np\n",
    "from sklearn.model_selection import train_test_split"
   ]
  },
  {
   "cell_type": "markdown",
   "metadata": {},
   "source": [
    "#### Test on LSVT Voice rehabitation dataset "
   ]
  },
  {
   "cell_type": "markdown",
   "metadata": {},
   "source": [
    "**Pre-processing data set**\n",
    "- In this section, the data set is loaded in as a Data Frame. This Data Frame is then split into training and testing set. \n",
    "\n",
    "- The data is then fit into matrix to match the input of the functions. "
   ]
  },
  {
   "cell_type": "code",
   "execution_count": null,
   "metadata": {},
   "outputs": [],
   "source": [
    "lsvt_predictors = pd.read_excel('lsvt/LSVT_voice_rehabilitation.xlsx')\n",
    "lsvt_predictors.shape"
   ]
  },
  {
   "cell_type": "code",
   "execution_count": null,
   "metadata": {},
   "outputs": [],
   "source": [
    "lsvt_response = pd.read_excel('lsvt/LSVT_voice_rehabilitation.xlsx',sheet_name=1)\n",
    "lsvt_response.shape"
   ]
  },
  {
   "cell_type": "code",
   "execution_count": null,
   "metadata": {},
   "outputs": [],
   "source": [
    "data = pd.concat([lsvt_predictors, lsvt_response], axis=1, join='outer')\n",
    "data"
   ]
  },
  {
   "cell_type": "code",
   "execution_count": null,
   "metadata": {},
   "outputs": [],
   "source": [
    "data_labels = []\n",
    "for i in range(len(lsvt_response['Binary class 1=acceptable, 2=unacceptable'])):\n",
    "    if lsvt_response['Binary class 1=acceptable, 2=unacceptable'][i] == 1:\n",
    "        data_labels.append(0)\n",
    "    else:\n",
    "        data_labels.append(1)\n",
    "data_labels = pd.Series(data_labels)"
   ]
  },
  {
   "cell_type": "code",
   "execution_count": null,
   "metadata": {},
   "outputs": [],
   "source": [
    "X_train, X_test, y_train ,y_test  = train_test_split(lsvt_predictors, data_labels, test_size=0.3)"
   ]
  },
  {
   "cell_type": "code",
   "execution_count": null,
   "metadata": {},
   "outputs": [],
   "source": [
    "X_train = X_train.reset_index(drop=True)\n",
    "y_train = y_train.reset_index(drop=True)\n",
    "X_test = X_test.reset_index(drop=True)\n",
    "y_test = y_test.reset_index(drop=True)\n"
   ]
  },
  {
   "cell_type": "code",
   "execution_count": null,
   "metadata": {},
   "outputs": [],
   "source": [
    "X_train.shape, data.shape\n",
    "predictors= X_train.columns"
   ]
  },
  {
   "cell_type": "markdown",
   "metadata": {},
   "source": [
    "After the data is in good shape, we follows the procedures below to predict the class of the testing set."
   ]
  },
  {
   "cell_type": "markdown",
   "metadata": {},
   "source": [
    "##### Procedures for the Exclusive Lasso KNN classifier\n",
    "- Extract X and Y matrix where X _(pxn)_ are compressed training predictors and label values. Y_(pxn)_ are compressed training predictors and labels values. Label values are the last row of the 2 matrices. \n",
    "\n",
    "- Extract `x_labels` and `y_true_labels`. `x_labels` vector is the same as `y_train` in ususal estimators. `y_true_labels` is vector is pass into the score function. Reformat the labels to `0...m` if the original ;labels are not formatted in this way. Seperate the labels from the predictors matrix for both `Y` and `X` vectors. \n",
    "\n",
    "- To match `sklearn` API, transpose `X` before pass into `.fit` method.\n",
    "\n",
    "- Implement `GridSearchCV` to find best parameters. Then pass in `Y` and predict the labels for `Y`. Accuracy is provdided for the `score` function of the estimator. "
   ]
  },
  {
   "cell_type": "code",
   "execution_count": null,
   "metadata": {},
   "outputs": [],
   "source": [
    "# generate predictor matrix X\n",
    "# matrix rows = col number\n",
    "# matrix column = row number \n",
    "train_cols = X_train.shape[1] \n",
    "train_rows = X_train.shape[0]\n",
    "X_train_mat = np.zeros((train_cols, train_rows))\n",
    "for i,col in enumerate(predictors):\n",
    "    for j in range(train_rows):\n",
    "        X_train_mat[i,j] = X_train[col][j]"
   ]
  },
  {
   "cell_type": "code",
   "execution_count": null,
   "metadata": {},
   "outputs": [],
   "source": [
    "# generate test sample matrix Y\n",
    "# matrix rows = col number\n",
    "# matrix column = row number\n",
    "# y = pxn matrix where n = number of test samples \n",
    "test_cols = X_test.shape[1]  \n",
    "test_rows = X_test.shape[0]\n",
    "X_test_mat = np.zeros((test_cols, test_rows))\n",
    "for i,col in enumerate(predictors):\n",
    "    for j in range(test_rows):\n",
    "        X_test_mat[i,j] = X_test[col][j]"
   ]
  },
  {
   "cell_type": "code",
   "execution_count": null,
   "metadata": {},
   "outputs": [],
   "source": [
    "# transpose X_train\n",
    "X_transposed = np.transpose(X_train_mat)"
   ]
  },
  {
   "cell_type": "code",
   "execution_count": null,
   "metadata": {},
   "outputs": [],
   "source": [
    "X_train_mat.shape"
   ]
  },
  {
   "cell_type": "code",
   "execution_count": null,
   "metadata": {},
   "outputs": [],
   "source": [
    "train_labels = np.zeros(y_train.shape[0])\n",
    "for i in range(len(y_train)):\n",
    "    if y_train[i] == 1:\n",
    "        train_labels[i] = 0\n",
    "    else:\n",
    "        train_labels[i] = 1"
   ]
  },
  {
   "cell_type": "code",
   "execution_count": null,
   "metadata": {},
   "outputs": [],
   "source": [
    "train_labels"
   ]
  },
  {
   "cell_type": "code",
   "execution_count": null,
   "metadata": {},
   "outputs": [],
   "source": [
    "# extract labels y as (n,) matrix\n",
    "test_labels = np.zeros(y_test.shape[0])\n",
    "for i in range(len(y_test)):\n",
    "    if y_test[i] == 1:\n",
    "        test_labels[i] = 0\n",
    "    else:\n",
    "        test_labels[i] = 1"
   ]
  },
  {
   "cell_type": "markdown",
   "metadata": {},
   "source": [
    "`GridSearchCV` of `sklearn` is utilized for finding the bets values for number fo groups, $\\lambda$ and $k$."
   ]
  },
  {
   "cell_type": "code",
   "execution_count": null,
   "metadata": {},
   "outputs": [],
   "source": [
    "param_grid = {\n",
    "    'lambda_':np.linspace(0.0000001, 1, 30) ,\n",
    "    'group_num': [i for i in range(2,11)],\n",
    "    'k': [3, 5, 7,10]\n",
    "}\n",
    "\n",
    "# Create the custom classifier instance\n",
    "clf = eknn.ExclusiveLassoKNNClassifier()\n",
    "\n",
    "# Use GridSearchCV to find the best hyperparameters\n",
    "grid_search = model_selection.GridSearchCV(clf, param_grid, cv=5, scoring='accuracy')  # the scoring parameter can be changed\n",
    "grid_search.fit(X_transposed, train_labels)# fit training data\n",
    "\n",
    "# Best parameters and best score\n",
    "best_params = grid_search.best_params_\n",
    "best_score = grid_search.best_score_\n"
   ]
  },
  {
   "cell_type": "code",
   "execution_count": null,
   "metadata": {},
   "outputs": [],
   "source": [
    "lambda_ = best_params['lambda_']\n",
    "group_num = best_params['group_num']\n",
    "k = best_params['k']"
   ]
  },
  {
   "cell_type": "code",
   "execution_count": null,
   "metadata": {},
   "outputs": [],
   "source": [
    "best_params"
   ]
  },
  {
   "cell_type": "code",
   "execution_count": null,
   "metadata": {},
   "outputs": [],
   "source": [
    "X_transposed.shape"
   ]
  },
  {
   "cell_type": "code",
   "execution_count": null,
   "metadata": {},
   "outputs": [],
   "source": [
    "clf = eknn.ExclusiveLassoKNNClassifier(group_num=2, k=3, lambda_=0.0001)\n",
    "clf.fit(X_transposed, train_labels)\n",
    "score_lsvt = clf.score(X_test_mat,test_labels)\n",
    "score_lsvt"
   ]
  },
  {
   "cell_type": "code",
   "execution_count": null,
   "metadata": {},
   "outputs": [],
   "source": [
    "print(\"Accuracy score of classifying LSVT data set:\", round(score_lsvt*100,2))"
   ]
  },
  {
   "cell_type": "markdown",
   "metadata": {},
   "source": [
    "The accuracy of this model is 55.26, which is low compared to the result in the paper which is 83.25. However, this might be due to the way we group the data points. In this experiment, data are evenly group corresponding to the number of group passed in (_refer to `eknn.py` file to understand how to data points are grouped_). Hence, this can significantly affect the result of the classification. In order to see if this is the case, I run the classifier on one more data set below. "
   ]
  },
  {
   "cell_type": "code",
   "execution_count": null,
   "metadata": {},
   "outputs": [],
   "source": [
    "preds= clf.predict(X_test_mat)"
   ]
  },
  {
   "cell_type": "code",
   "execution_count": null,
   "metadata": {},
   "outputs": [],
   "source": [
    "preds, test_labels"
   ]
  },
  {
   "cell_type": "markdown",
   "metadata": {},
   "source": [
    "Result of the classification is printed out along with the true labels of the testing set to clearly see the performace of the proposed algorithm."
   ]
  },
  {
   "cell_type": "markdown",
   "metadata": {},
   "source": [
    "#### Test on Arcene dataset\n",
    "\n",
    "- Arcene data set are added in order to see the performance of the algorithm on new data set.\n",
    "\n",
    "- Similarly, data are shpaed into matrices format before being passed into the functions"
   ]
  },
  {
   "cell_type": "code",
   "execution_count": null,
   "metadata": {},
   "outputs": [],
   "source": [
    "from ucimlrepo import fetch_ucirepo \n",
    "  \n",
    "# fetch dataset \n",
    "connectionist_bench_sonar_mines_vs_rocks = fetch_ucirepo(id=151) \n",
    "  \n",
    "# data (as pandas dataframes) \n",
    "data = connectionist_bench_sonar_mines_vs_rocks.data.features \n",
    "labels = connectionist_bench_sonar_mines_vs_rocks.data.targets "
   ]
  },
  {
   "cell_type": "code",
   "execution_count": null,
   "metadata": {},
   "outputs": [],
   "source": [
    "X_train, X_test, y_train, y_test = train_test_split(data, labels, test_size=0.33, random_state=42)"
   ]
  },
  {
   "cell_type": "code",
   "execution_count": null,
   "metadata": {},
   "outputs": [],
   "source": [
    "X_train.reset_index(drop=True, inplace=True)\n",
    "X_test.reset_index(drop=True, inplace=True)\n",
    "y_train.reset_index(drop=True, inplace=True)\n",
    "y_test.reset_index(drop=True, inplace=True)"
   ]
  },
  {
   "cell_type": "code",
   "execution_count": null,
   "metadata": {},
   "outputs": [],
   "source": [
    "predictors_sonars = X_train.columns"
   ]
  },
  {
   "cell_type": "code",
   "execution_count": null,
   "metadata": {},
   "outputs": [],
   "source": [
    "# generate predictor matrix X\n",
    "# matrix rows = col number\n",
    "# matrix column = row number \n",
    "train_cols = X_train.shape[1] \n",
    "train_rows = X_train.shape[0]\n",
    "X = np.zeros((train_cols, train_rows))\n",
    "for i,col in enumerate(predictors_sonars):\n",
    "    for j in range(train_rows):\n",
    "        X[i,j] = X_train[col][j]"
   ]
  },
  {
   "cell_type": "code",
   "execution_count": null,
   "metadata": {},
   "outputs": [],
   "source": [
    "# generate predictor matrix X\n",
    "# matrix rows = col number\n",
    "# matrix column = row number \n",
    "test_cols = X_test.shape[1] \n",
    "test_rows = X_test.shape[0]\n",
    "X_test_mat = np.zeros((test_cols, test_rows))\n",
    "for i,col in enumerate(predictors_sonars):\n",
    "    for j in range(test_rows):\n",
    "        X_test_mat[i,j] = X_test[col][j]"
   ]
  },
  {
   "cell_type": "code",
   "execution_count": null,
   "metadata": {},
   "outputs": [],
   "source": [
    "x_labels = np.zeros(y_train.shape[0])\n",
    "for i in range(len(y_train[\"class\"])):\n",
    "    if y_train[\"class\"][i] == \"R\":\n",
    "        x_labels[i] = 0\n",
    "    else:\n",
    "        x_labels[i] = 1"
   ]
  },
  {
   "cell_type": "code",
   "execution_count": null,
   "metadata": {},
   "outputs": [],
   "source": [
    "test_labels = np.zeros(y_test.shape[0])\n",
    "for i in range(len(y_test[\"class\"])):\n",
    "    if y_test[\"class\"][i] == \"R\":\n",
    "        test_labels[i] = 0\n",
    "    else:\n",
    "        test_labels[i] = 1"
   ]
  },
  {
   "cell_type": "code",
   "execution_count": null,
   "metadata": {},
   "outputs": [],
   "source": [
    "y_test = np.reshape(y_test, y_test.shape[0])\n",
    "y_train = np.reshape(y_train, y_train.shape[0])"
   ]
  },
  {
   "cell_type": "code",
   "execution_count": null,
   "metadata": {},
   "outputs": [],
   "source": [
    "X_train_transposed = np.transpose(X)"
   ]
  },
  {
   "cell_type": "markdown",
   "metadata": {},
   "source": [
    "`GridSearchCV` is implemented to find best tuning parameters."
   ]
  },
  {
   "cell_type": "code",
   "execution_count": null,
   "metadata": {},
   "outputs": [],
   "source": [
    "param_grid = {\n",
    "    'lambda_': np.logspace(-4, -0.5, 30),\n",
    "    'group_num': [i for i in range(2, 11,1)],\n",
    "    'k': [3, 5, 7, 10]\n",
    "}\n",
    "\n",
    "# Create the custom classifier instance\n",
    "clf = eknn.ExclusiveLassoKNNClassifier()\n",
    "\n",
    "# Use GridSearchCV to find the best hyperparameters\n",
    "grid_search = model_selection.GridSearchCV(clf, param_grid, cv=10)  # the scoring parameter can be changed\n",
    "grid_search.fit(X_train_transposed, y_train)# fit training data\n",
    "\n",
    "# Best parameters and best score\n",
    "best_params = grid_search.best_params_\n",
    "best_score = grid_search.best_score_"
   ]
  },
  {
   "cell_type": "code",
   "execution_count": null,
   "metadata": {},
   "outputs": [],
   "source": [
    "best_params"
   ]
  },
  {
   "cell_type": "code",
   "execution_count": null,
   "metadata": {},
   "outputs": [],
   "source": [
    "y_test"
   ]
  },
  {
   "cell_type": "code",
   "execution_count": null,
   "metadata": {},
   "outputs": [],
   "source": [
    "X_train_transposed.shape # groups_vect has correct dimension"
   ]
  },
  {
   "cell_type": "code",
   "execution_count": null,
   "metadata": {},
   "outputs": [],
   "source": [
    "clf = eknn.ExclusiveLassoKNNClassifier(group_num=2, k=3, lambda_=0.0001)\n",
    "clf.fit(X_train_transposed, x_labels)\n",
    "preds = clf.predict(X_test_mat)\n",
    "score_sonars = clf.score(X_test_mat, test_labels)\n",
    "score_sonars"
   ]
  },
  {
   "cell_type": "code",
   "execution_count": null,
   "metadata": {},
   "outputs": [],
   "source": [
    "print(\"Accuracy score of classifying Sonar data set:\", round(score_sonars*100,2))"
   ]
  },
  {
   "cell_type": "markdown",
   "metadata": {},
   "source": [
    "For this dataset, the accuracy score of hte classifier is 71.01 which is pretty close to the score of 74.63 in the paper. The small difference might be due to the way we group the daat points. More research on how we group data points might help obtain similar classification result. "
   ]
  },
  {
   "cell_type": "markdown",
   "metadata": {},
   "source": [
    "#### Test on vehicle data - data with multiple (more than) class labels"
   ]
  },
  {
   "cell_type": "code",
   "execution_count": null,
   "metadata": {},
   "outputs": [],
   "source": [
    "from ucimlrepo import fetch_ucirepo \n",
    "  \n",
    "# fetch dataset \n",
    "statlog_vehicle_silhouettes = fetch_ucirepo(id=149) \n",
    "  \n",
    "# data (as pandas dataframes) \n",
    "vehicle = statlog_vehicle_silhouettes.data.features \n",
    "targets = statlog_vehicle_silhouettes.data.targets  \n"
   ]
  },
  {
   "cell_type": "code",
   "execution_count": null,
   "metadata": {},
   "outputs": [],
   "source": [
    "# vehicle\n",
    "null_data = vehicle[vehicle.isnull().any(axis=1)]\n",
    "vehicle.drop(index=752,inplace=True)"
   ]
  },
  {
   "cell_type": "code",
   "execution_count": null,
   "metadata": {},
   "outputs": [],
   "source": [
    "targets.drop(index=752, inplace=True)"
   ]
  },
  {
   "cell_type": "code",
   "execution_count": null,
   "metadata": {},
   "outputs": [],
   "source": [
    "targets.shape, vehicle.shape"
   ]
  },
  {
   "cell_type": "code",
   "execution_count": null,
   "metadata": {},
   "outputs": [],
   "source": [
    "targets['class'].unique()"
   ]
  },
  {
   "cell_type": "code",
   "execution_count": null,
   "metadata": {},
   "outputs": [],
   "source": [
    "labels=pd.Series(len(targets['class']))\n",
    "for i,v in enumerate(targets['class']):\n",
    "    if v == 'van':\n",
    "        labels[i] = 0\n",
    "    elif v == 'saab':\n",
    "        labels[i] = 1\n",
    "    elif v == 'bus':\n",
    "        labels[i] = 2\n",
    "    elif v == 'opel':\n",
    "        labels[i] = 3\n",
    "    else:\n",
    "        labels[i] = 4\n",
    "labels"
   ]
  },
  {
   "cell_type": "code",
   "execution_count": null,
   "metadata": {},
   "outputs": [],
   "source": [
    "X_train, X_test, y_train, y_test = train_test_split(vehicle, labels, test_size=0.33, random_state=42)"
   ]
  },
  {
   "cell_type": "code",
   "execution_count": null,
   "metadata": {},
   "outputs": [],
   "source": [
    "X_train.reset_index(drop=True, inplace=True)\n",
    "X_test.reset_index(drop=True, inplace=True)\n",
    "y_train.reset_index(drop=True, inplace=True)\n",
    "y_test.reset_index(drop=True, inplace=True)"
   ]
  },
  {
   "cell_type": "code",
   "execution_count": null,
   "metadata": {},
   "outputs": [],
   "source": [
    "predictors_vehicles = X_train.columns\n",
    "predictors_vehicles"
   ]
  },
  {
   "cell_type": "code",
   "execution_count": null,
   "metadata": {},
   "outputs": [],
   "source": [
    "# generate predictor matrix X\n",
    "# matrix rows = col number\n",
    "# matrix column = row number \n",
    "train_cols = X_train.shape[1] \n",
    "train_rows = X_train.shape[0]\n",
    "X_train_mat = np.zeros((train_cols, train_rows))\n",
    "for i,col in enumerate(predictors_vehicles):\n",
    "    for j in range(train_rows):\n",
    "        X_train_mat[i,j] = X_train[col][j]"
   ]
  },
  {
   "cell_type": "code",
   "execution_count": null,
   "metadata": {},
   "outputs": [],
   "source": [
    "# generate predictor matrix X\n",
    "# matrix rows = col number\n",
    "# matrix column = row number \n",
    "test_cols = X_test.shape[1] \n",
    "test_rows = X_test.shape[0]\n",
    "X_test_mat = np.zeros((test_cols, test_rows))\n",
    "for i,col in enumerate(predictors_vehicles):\n",
    "    for j in range(test_rows):\n",
    "        X_test_mat[i,j] = X_test[col][j]"
   ]
  },
  {
   "cell_type": "code",
   "execution_count": null,
   "metadata": {},
   "outputs": [],
   "source": [
    "X_train_transposed = np.transpose(X_train_mat)"
   ]
  },
  {
   "cell_type": "code",
   "execution_count": null,
   "metadata": {},
   "outputs": [],
   "source": [
    "X_train_transposed.shape"
   ]
  },
  {
   "cell_type": "code",
   "execution_count": null,
   "metadata": {},
   "outputs": [],
   "source": [
    "param_grid = {\n",
    "    'lambda_': np.logspace(-4, -0.5, 30),\n",
    "    'group_num': [i for i in range(2, 11,1)],\n",
    "    'k': [3, 5, 7, 10,11]\n",
    "}\n",
    "\n",
    "# Create the custom classifier instance\n",
    "clf = eknn.ExclusiveLassoKNNClassifier()\n",
    "\n",
    "# Use GridSearchCV to find the best hyperparameters\n",
    "grid_search_3 = model_selection.GridSearchCV(clf, param_grid, cv=10)  # the scoring parameter can be changed\n",
    "grid_search_3.fit(X_train_transposed, y_train)# fit training data\n",
    "\n",
    "# Best parameters and best score\n",
    "best_params = grid_search_3.best_params_\n",
    "best_score = grid_search_3.best_score_"
   ]
  },
  {
   "cell_type": "code",
   "execution_count": null,
   "metadata": {},
   "outputs": [],
   "source": [
    "lambda_ = best_params['lambda_']\n",
    "group_num = best_params['group_num']\n",
    "k = best_params['k']\n",
    "best_params"
   ]
  },
  {
   "cell_type": "code",
   "execution_count": null,
   "metadata": {},
   "outputs": [],
   "source": [
    "X_test"
   ]
  },
  {
   "cell_type": "code",
   "execution_count": null,
   "metadata": {},
   "outputs": [],
   "source": [
    "clf = eknn.ExclusiveLassoKNNClassifier(group_num=group_num, k=3, lambda_=lambda_)\n",
    "clf.fit(X_train_transposed, y_train)\n",
    "score_lsvt = clf.score(X_test_mat, y_test)\n",
    "score_lsvt"
   ]
  },
  {
   "cell_type": "markdown",
   "metadata": {},
   "source": [
    "#### Uitilize unsupervised learning to group data points"
   ]
  }
 ],
 "metadata": {
  "kernelspec": {
   "display_name": "anaconda_env",
   "language": "python",
   "name": "python3"
  },
  "language_info": {
   "codemirror_mode": {
    "name": "ipython",
    "version": 3
   },
   "file_extension": ".py",
   "mimetype": "text/x-python",
   "name": "python",
   "nbconvert_exporter": "python",
   "pygments_lexer": "ipython3",
   "version": "3.8.18"
  }
 },
 "nbformat": 4,
 "nbformat_minor": 2
}
